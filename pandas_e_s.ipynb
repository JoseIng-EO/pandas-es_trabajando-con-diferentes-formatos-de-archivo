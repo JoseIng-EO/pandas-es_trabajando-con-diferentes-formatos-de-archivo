{
  "nbformat": 4,
  "nbformat_minor": 0,
  "metadata": {
    "colab": {
      "provenance": []
    },
    "kernelspec": {
      "name": "python3",
      "display_name": "Python 3"
    },
    "language_info": {
      "name": "python"
    }
  },
  "cells": [
    {
      "cell_type": "markdown",
      "source": [
        "# Aula - 1: Leyendo archivos csv\n",
        "### Importando archivos csv\n"
      ],
      "metadata": {
        "id": "45u7mjHezKvl"
      }
    },
    {
      "cell_type": "code",
      "source": [
        "import pandas as pd"
      ],
      "metadata": {
        "id": "XznrlavPzxEW"
      },
      "execution_count": 1,
      "outputs": []
    }
  ]
}